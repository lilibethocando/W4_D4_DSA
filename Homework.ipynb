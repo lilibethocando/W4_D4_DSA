{
 "cells": [
  {
   "cell_type": "markdown",
   "id": "243aa76b",
   "metadata": {},
   "source": [
    "# Homework"
   ]
  },
  {
   "cell_type": "markdown",
   "id": "a2c37ec0",
   "metadata": {},
   "source": [
    "### Linked List (Data Structure)\n",
    "A linked list is created by using the node class. We create a Node object and create another class to use this node object. We pass the appropriate values thorugh the node object to point the to the next data elements.\n",
    "\n",
    "There are some advantages and disadvantages with this data structure. Advantages Linked Lists can save memory because they can be flexibile with memory management which saves memory. Disadvantages Finding or adding to the list requires traversing the entire list."
   ]
  },
  {
   "cell_type": "markdown",
   "id": "82df8c60",
   "metadata": {},
   "source": [
    "#### Problem 1: Add a .remove method to the LinkedList\n",
    "\n",
    "Update the `.remove` method to the LinkedList class to remove a node from the list.\n",
    "\n",
    "The method should take in the value to remove and remove the node with that value from the LinkedList."
   ]
  },
  {
   "cell_type": "code",
   "execution_count": 3,
   "id": "a089098d",
   "metadata": {},
   "outputs": [],
   "source": [
    "# Complete Implementation of Linked List\n",
    "# - Add new node to the front of the linked list\n",
    "# - Add new node to the end of the linked list\n",
    "# - Get a node by its value\n",
    "# - Insert new node after a particular node\n",
    "# - Traverse through the linked list and print values\n",
    "\n",
    "\n",
    "# 2 Classes - Node Class and Linked List Class\n",
    "\n",
    "class Node:\n",
    "    def __init__(self, value):\n",
    "        self.value = value\n",
    "        self.next = None\n",
    "        \n",
    "    def __str__(self):\n",
    "        return str(self.value)\n",
    "    \n",
    "    def __repr__(self):\n",
    "        return f'<Node|{self.value}>'\n",
    "    \n",
    "    \n",
    "class LinkedList:\n",
    "    def __init__(self, head_node=None):\n",
    "        self.head = head_node\n",
    "        \n",
    "    def add_front(self, new_value):\n",
    "        new_node = Node(new_value)\n",
    "        new_node.next = self.head\n",
    "        self.head = new_node\n",
    "        \n",
    "    def add_end(self, new_value):\n",
    "        new_node = Node(new_value)\n",
    "        current = self.head\n",
    "        if not self.head:\n",
    "            self.head = new_node\n",
    "            return\n",
    "        while current.next is not None:\n",
    "            current = current.next\n",
    "        current.next = new_node\n",
    "        \n",
    "        \n",
    " # Method to print out all of the nodes in the Linked List in order   \n",
    "    def print_nodes(self):\n",
    "        current = self.head\n",
    "        while current is not None:\n",
    "            print(current)\n",
    "            current = current.next\n",
    "            \n",
    "# - Get a node by its value\n",
    "    def get_node(self, target):\n",
    "        current = self.head \n",
    "        while current is not None:\n",
    "            if current.value == target:\n",
    "                return current.value\n",
    "            current = current.next\n",
    "        return None\n",
    "    \n",
    "# - Insert new node after a particular node\n",
    "    def insert_at(self, prev_value, new_value):\n",
    "        new_node = Node(new_value)\n",
    "        current = self.head\n",
    "        prev_node = self.get_node(prev_value)\n",
    "        if prev_node is None:\n",
    "            print(f\"{prev_value} is not in the linked list\")\n",
    "        while current is not None:\n",
    "            if current.value == prev_node:\n",
    "                temp = current.next\n",
    "                current.next = new_node\n",
    "                new_node.next = temp\n",
    "            current = current.next\n",
    "            \n",
    "#Add a .remove method to the LinkedList\n",
    "    def remove(self, value_to_remove):\n",
    "        current = self.head\n",
    "        prev_node = None\n",
    "        if current.value == value_to_remove:\n",
    "            self.head = current.next\n",
    "            return self.head\n",
    "            \n",
    "        while current is not None:\n",
    "            if current.value == value_to_remove:\n",
    "                prev_node.next = current.next\n",
    "                break\n",
    "\n",
    "            prev_node = current\n",
    "            current = current.next\n",
    "        return self.head "
   ]
  },
  {
   "cell_type": "code",
   "execution_count": 7,
   "id": "6a4d65d6",
   "metadata": {},
   "outputs": [
    {
     "name": "stdout",
     "output_type": "stream",
     "text": [
      "A\n",
      "B\n",
      "A\n",
      "C\n",
      "B\n",
      "C\n",
      "B\n"
     ]
    }
   ],
   "source": [
    "#Testing the Node class\n",
    "node1 = Node('A')\n",
    "node2 = Node('B')\n",
    "node3 = Node('C')\n",
    "node4 = Node('D')\n",
    "\n",
    "node1.next = node2\n",
    "node2.next = node3\n",
    "node3.next = node4\n",
    "\n",
    "#--------------\n",
    "letters = LinkedList()\n",
    "letters.add_front('A')\n",
    "letters.add_end('B')\n",
    "letters.print_nodes()\n",
    "letters.get_node('D')\n",
    "letters.insert_at('A', 'C')\n",
    "letters.print_nodes()\n",
    "letters.remove('A')\n",
    "letters.print_nodes()\n"
   ]
  },
  {
   "cell_type": "code",
   "execution_count": null,
   "id": "7b888aa1",
   "metadata": {},
   "outputs": [],
   "source": []
  }
 ],
 "metadata": {
  "kernelspec": {
   "display_name": "Python 3 (ipykernel)",
   "language": "python",
   "name": "python3"
  },
  "language_info": {
   "codemirror_mode": {
    "name": "ipython",
    "version": 3
   },
   "file_extension": ".py",
   "mimetype": "text/x-python",
   "name": "python",
   "nbconvert_exporter": "python",
   "pygments_lexer": "ipython3",
   "version": "3.11.5"
  }
 },
 "nbformat": 4,
 "nbformat_minor": 5
}
